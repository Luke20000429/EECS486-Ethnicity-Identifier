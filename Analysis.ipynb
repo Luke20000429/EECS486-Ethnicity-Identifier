{
 "metadata": {
  "language_info": {
   "codemirror_mode": {
    "name": "ipython",
    "version": 3
   },
   "file_extension": ".py",
   "mimetype": "text/x-python",
   "name": "python",
   "nbconvert_exporter": "python",
   "pygments_lexer": "ipython3",
   "version": "3.8.6"
  },
  "orig_nbformat": 2,
  "kernelspec": {
   "name": "python386jvsc74a57bd08d7437d109cb4990f43ee27100ea9916bfedca7758194b0fcdd55f6030d2bfdf",
   "display_name": "Python 3.8.6 64-bit"
  }
 },
 "nbformat": 4,
 "nbformat_minor": 2,
 "cells": [
  {
   "cell_type": "code",
   "execution_count": 1,
   "metadata": {},
   "outputs": [],
   "source": [
    "import numpy as np\n",
    "import pandas as pd\n",
    "from matplotlib import pyplot as plt\n",
    "\n",
    "from ngram import getNgrams, getGrams, getFix\n",
    "from dataHandler import readData as rd\n",
    "from combMethod import EthnicityPredictor as EP"
   ]
  },
  {
   "cell_type": "code",
   "execution_count": 2,
   "metadata": {},
   "outputs": [],
   "source": [
    "class Analyzer(EP):\n",
    "\n",
    "    def analyze(self):\n",
    "\n",
    "        self.readData()\n",
    "        print(\"Finish reading!\\n\")\n",
    "        self.countNN()\n",
    "        self.countCate()\n",
    "        print(\"ready!\\n\")\n",
    "\n",
    "        "
   ]
  },
  {
   "cell_type": "code",
   "execution_count": 3,
   "metadata": {},
   "outputs": [
    {
     "output_type": "stream",
     "name": "stdout",
     "text": [
      "Finish reading!\n",
      "\n",
      "[0.07369368 0.30884709 0.18789566 0.04090306 0.18915055 0.18067113\n",
      " 0.10100708 0.19332783 0.13739287 0.16518738 0.26979104 0.1786462\n",
      " 0.19322459]\n",
      "------------\n",
      "ready!\n",
      "\n"
     ]
    }
   ],
   "source": [
    "anlz = Analyzer(3)\n",
    "anlz.analyze()"
   ]
  },
  {
   "cell_type": "code",
   "execution_count": 4,
   "metadata": {},
   "outputs": [
    {
     "output_type": "stream",
     "name": "stdout",
     "text": [
      "get pre/suffix\n"
     ]
    }
   ],
   "source": [
    "prefix = getFix(2, anlz.pairs, anlz.nations)"
   ]
  },
  {
   "cell_type": "code",
   "execution_count": null,
   "metadata": {},
   "outputs": [],
   "source": []
  }
 ]
}