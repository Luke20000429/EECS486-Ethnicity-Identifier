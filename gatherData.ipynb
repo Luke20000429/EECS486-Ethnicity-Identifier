{
 "metadata": {
  "language_info": {
   "codemirror_mode": {
    "name": "ipython",
    "version": 3
   },
   "file_extension": ".py",
   "mimetype": "text/x-python",
   "name": "python",
   "nbconvert_exporter": "python",
   "pygments_lexer": "ipython3",
   "version": "3.6.9"
  },
  "orig_nbformat": 2,
  "kernelspec": {
   "name": "python369jvsc74a57bd031f2aee4e71d21fbe5cf8b01ff0e069b9275f58929596ceb00d14d90e3e16cd6",
   "display_name": "Python 3.6.9 64-bit"
  },
  "metadata": {
   "interpreter": {
    "hash": "31f2aee4e71d21fbe5cf8b01ff0e069b9275f58929596ceb00d14d90e3e16cd6"
   }
  }
 },
 "nbformat": 4,
 "nbformat_minor": 2,
 "cells": [
  {
   "cell_type": "code",
   "execution_count": 1,
   "metadata": {},
   "outputs": [],
   "source": [
    "import os\n",
    "import sys\n",
    "import numpy as np\n",
    "import pandas as pd"
   ]
  },
  {
   "cell_type": "code",
   "execution_count": 2,
   "metadata": {},
   "outputs": [],
   "source": [
    "src = open(\"./archive/nana/train.src\", 'r', encoding='utf-8')\n",
    "tgt = open(\"./archive/nana/train.tgt\", 'r', encoding='utf-8')\n",
    "nations = dict()\n",
    "count = np.zeros(1000)\n",
    "num_nation = 0\n",
    "info = []\n",
    "name_list = []\n",
    "for l1, l2 in zip(src, tgt):\n",
    "    names = l1[:-1].lower().replace(\",\", \"\").split(\" \")\n",
    "    nation = l2[:-1].lower()\n",
    "    if nation not in nations.keys():\n",
    "        nations[nation] = num_nation\n",
    "        num_nation += 1 \n",
    "    for name in names:\n",
    "        info.append((name, nations[nation]))\n",
    "    count[nations[nation]] += 1\n",
    "\n",
    "src.close()\n",
    "tgt.close()\n"
   ]
  },
  {
   "cell_type": "code",
   "execution_count": 3,
   "metadata": {},
   "outputs": [],
   "source": [
    "file_list = os.listdir(\"./nationality-classify-master/datasets\")\n",
    "for fname in file_list:\n",
    "    nation = fname.replace(\".txt\", \"\")\n",
    "    if nation not in nations.keys():\n",
    "        nations[nation] = num_nation\n",
    "        num_nation += 1\n",
    "    count[nations[nation]] += 1\n",
    "    with open(os.path.join(\"./nationality-classify-master/datasets\", fname), 'r', encoding='utf-8') as f:\n",
    "        for l in f:\n",
    "            names = l1[:-1].lower().split(\" \")\n",
    "            info.append((name, nations[nation]))\n"
   ]
  },
  {
   "cell_type": "code",
   "execution_count": 3,
   "metadata": {},
   "outputs": [],
   "source": [
    "sort_nations = sorted(nations.keys())\n",
    "info_set = set(info)\n",
    "data = open(\"db2.txt\", 'w', encoding='utf-8')\n",
    "for name, nid in info_set:\n",
    "    if len(name) >= 3 and name.isalpha():\n",
    "        data.write(\"%s %d\\n\"%(name, nid))\n",
    "\n",
    "with open(\"nations.txt\", 'w', encoding='utf-8') as f:\n",
    "    for nation in nations.keys():\n",
    "        f.write(\"%s\\n\"%(nation))\n",
    "\n",
    "data.close()\n"
   ]
  },
  {
   "cell_type": "code",
   "execution_count": 14,
   "metadata": {},
   "outputs": [],
   "source": [
    "names = []\n",
    "with open(\"db2.txt\", 'r', encoding='utf-8') as f:\n",
    "    for line in f:\n",
    "        name = line[:-1].split(\",\")[0]\n",
    "        names.append(name)"
   ]
  },
  {
   "cell_type": "code",
   "execution_count": 6,
   "metadata": {},
   "outputs": [],
   "source": [
    "na2re = []\n",
    "regions = dict()\n",
    "with open(\"nation-region.txt\", 'r', encoding='utf-8') as f:\n",
    "    num = 0\n",
    "    for line in f:\n",
    "        region = line[:-1].split(',')[1]\n",
    "        if region not in regions.keys():\n",
    "            regions[region] = num\n",
    "            num += 1\n",
    "        na2re.append(regions[region])"
   ]
  },
  {
   "cell_type": "code",
   "execution_count": null,
   "metadata": {},
   "outputs": [],
   "source": [
    " count[nations[nation]]"
   ]
  },
  {
   "cell_type": "code",
   "execution_count": 7,
   "metadata": {},
   "outputs": [],
   "source": [
    "db = open(\"db.txt\", 'r', encoding='utf-8')\n",
    "redb = open(\"redb.txt\", 'w', encoding='utf-8')\n",
    "\n",
    "recount = np.zeros(13)\n",
    "\n",
    "for line in db:\n",
    "    name, nation = line[:-1].split(\" \")\n",
    "    re = na2re[int(nation)]\n",
    "    recount[re] += 1\n",
    "    redb.write(\"%s %d\\n\"%(name, re))\n",
    "\n",
    "db.close()\n",
    "redb.close()"
   ]
  },
  {
   "cell_type": "code",
   "execution_count": 10,
   "metadata": {},
   "outputs": [
    {
     "output_type": "stream",
     "name": "stdout",
     "text": [
      "0\n1\n2\n3\n4\n5\n6\n7\n8\n9\n10\n11\n12\n"
     ]
    }
   ],
   "source": [
    "with open(\"regions.txt\", 'w', encoding='utf-8') as f:\n",
    "    for region, rid in regions.items():\n",
    "        print(rid)\n",
    "        f.write(\"%s %d\\n\"%(region, recount[rid]))"
   ]
  },
  {
   "cell_type": "code",
   "execution_count": null,
   "metadata": {},
   "outputs": [],
   "source": []
  }
 ]
}